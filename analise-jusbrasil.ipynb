{
 "cells": [
  {
   "cell_type": "markdown",
   "id": "6e348d6d",
   "metadata": {},
   "source": [
    "# Análise resultados Jusbrasil"
   ]
  },
  {
   "cell_type": "markdown",
   "id": "9a3bd1a6",
   "metadata": {},
   "source": [
    "https://carguero.atlassian.net/browse/DADOS-277"
   ]
  },
  {
   "cell_type": "markdown",
   "id": "0f5ffeef",
   "metadata": {},
   "source": [
    "### Libraries"
   ]
  },
  {
   "cell_type": "code",
   "execution_count": 108,
   "id": "58062e7f",
   "metadata": {},
   "outputs": [],
   "source": [
    "import pandas as pd\n",
    "from unidecode import unidecode"
   ]
  },
  {
   "cell_type": "markdown",
   "id": "69b475ac",
   "metadata": {},
   "source": [
    "### Data ingestion"
   ]
  },
  {
   "cell_type": "code",
   "execution_count": 109,
   "id": "baa5a2da",
   "metadata": {},
   "outputs": [],
   "source": [
    "df_cpfs = pd.read_csv('data/amostra_300.csv')\n",
    "\n",
    "df_cpfs['cod_cpf'] = df_cpfs['cod_cpf'].astype(str).str.zfill(11)"
   ]
  },
  {
   "cell_type": "code",
   "execution_count": 110,
   "id": "e9fa3602",
   "metadata": {},
   "outputs": [],
   "source": [
    "df_escavador = pd.read_csv('data/results_escavador.csv')\n",
    "\n",
    "df_escavador = df_escavador[['cod_cpf', 'result_escavador_manual']]\n",
    "df_escavador['cod_cpf'] = df_escavador['cod_cpf'].astype(str).str.zfill(11)\n",
    "df_escavador['result'] = df_escavador['result_escavador_manual'].apply(lambda x: 1 if x == 'CRIMINAL' else 0)"
   ]
  },
  {
   "cell_type": "code",
   "execution_count": 111,
   "id": "dcbf2ce8",
   "metadata": {},
   "outputs": [],
   "source": [
    "df_jusbrasil = pd.read_excel('drivers_lawsuits_details_300.xlsx')\n",
    "\n",
    "df_jusbrasil['matchRelatedPeople_name_UPPER'] = df_jusbrasil['matchRelatedPeople_name'].str.upper().apply(unidecode)\n",
    "df_jusbrasil = df_jusbrasil.merge(df_cpfs.drop_duplicates(subset=['nm_motorista'])[['nm_motorista', 'cod_cpf', 'ROUBO']],\n",
    "                                  left_on='matchRelatedPeople_name_UPPER', right_on='nm_motorista', how='left')"
   ]
  },
  {
   "cell_type": "markdown",
   "id": "17add000",
   "metadata": {},
   "source": [
    "### Motoristas com processo encontrados pelo Escavador, porém não encontrados pela Jusbrasil."
   ]
  },
  {
   "cell_type": "code",
   "execution_count": 112,
   "id": "e03f5199",
   "metadata": {},
   "outputs": [
    {
     "data": {
      "text/plain": [
       "(29,\n",
       " {'00096913592',\n",
       "  '00632083182',\n",
       "  '00902957066',\n",
       "  '01301501182',\n",
       "  '02387430123',\n",
       "  '02428273906',\n",
       "  '04063153100',\n",
       "  '04294169974',\n",
       "  '07097699469',\n",
       "  '15030504915',\n",
       "  '17112010144',\n",
       "  '21482348896',\n",
       "  '26200575827',\n",
       "  '31467636053',\n",
       "  '33003625802',\n",
       "  '34199155864',\n",
       "  '36452356801',\n",
       "  '47522828104',\n",
       "  '51119765072',\n",
       "  '51460858115',\n",
       "  '57156417134',\n",
       "  '65533151915',\n",
       "  '81164700197',\n",
       "  '82753946868',\n",
       "  '87037459100',\n",
       "  '90693353104',\n",
       "  '91998344053',\n",
       "  '95800930830',\n",
       "  '98037838153'})"
      ]
     },
     "execution_count": 112,
     "metadata": {},
     "output_type": "execute_result"
    }
   ],
   "source": [
    "mot_set = set(df_escavador[df_escavador['result_escavador_manual']!='NÃO ENCONTRADO']['cod_cpf']) - set(df_jusbrasil[df_jusbrasil['ROUBO']==1]['cod_cpf'].values)\n",
    "len(mot_set), mot_set"
   ]
  },
  {
   "cell_type": "markdown",
   "id": "0da88136",
   "metadata": {},
   "source": [
    "### Motoristas com processo encontrados pela Jusbrasil, porém não encontrados pelo Escavador."
   ]
  },
  {
   "cell_type": "code",
   "execution_count": 113,
   "id": "a6024bf6",
   "metadata": {},
   "outputs": [
    {
     "data": {
      "text/plain": [
       "1"
      ]
     },
     "execution_count": 113,
     "metadata": {},
     "output_type": "execute_result"
    }
   ],
   "source": [
    "mot_set = set(df_jusbrasil[df_jusbrasil['ROUBO']==1]['cod_cpf'].values) - set(df_escavador[df_escavador['result_escavador_manual']!='NÃO ENCONTRADO']['cod_cpf'])\n",
    "len(mot_set)"
   ]
  },
  {
   "cell_type": "markdown",
   "id": "a3d9a809",
   "metadata": {},
   "source": [
    "### Acurácia - Jusbrasil"
   ]
  },
  {
   "cell_type": "code",
   "execution_count": 117,
   "id": "44d33d9a",
   "metadata": {},
   "outputs": [
    {
     "data": {
      "text/plain": [
       "(55, 68)"
      ]
     },
     "execution_count": 117,
     "metadata": {},
     "output_type": "execute_result"
    }
   ],
   "source": [
    "df_jusbrasil.drop_duplicates(subset=['matchRelatedPeople_name']).shape"
   ]
  },
  {
   "cell_type": "code",
   "execution_count": 118,
   "id": "94df590e",
   "metadata": {},
   "outputs": [
    {
     "name": "stdout",
     "output_type": "stream",
     "text": [
      "34.0% motoristas com roubo tiveram processos criminais encontrados.\n"
     ]
    }
   ],
   "source": [
    "print(f\"{17/50*100.:2}% motoristas com roubo tiveram processos criminais encontrados.\")"
   ]
  },
  {
   "cell_type": "code",
   "execution_count": 119,
   "id": "f7136008",
   "metadata": {},
   "outputs": [
    {
     "name": "stdout",
     "output_type": "stream",
     "text": [
      "15.2% motoristas sem roubo tiveram processos criminais encontrados.\n"
     ]
    }
   ],
   "source": [
    "print(f\"{(55-17)/250*100.:2}% motoristas sem roubo tiveram processos criminais encontrados.\")"
   ]
  },
  {
   "cell_type": "markdown",
   "id": "cc0012cc",
   "metadata": {},
   "source": [
    "Alguns motoristas não dão match com nome encontrado no processo e o nome da base de dados."
   ]
  },
  {
   "cell_type": "markdown",
   "id": "77b19bce",
   "metadata": {},
   "source": [
    "### Conclusão"
   ]
  },
  {
   "cell_type": "markdown",
   "id": "b897de93",
   "metadata": {},
   "source": [
    "* Jusbrasil apresentou acurácia de 34% dos 50 motoristas com roubo e 15.2% de falsos positivos.\n",
    "* A solução, já possui uma regra para identificar processos criminais, sendo assim, é mais simples do que o Escavador, porém\n",
    "apresenta menor complexidade.\n",
    "* Solução tem potencial para agregar a solução de análise de risco Carguero."
   ]
  }
 ],
 "metadata": {
  "kernelspec": {
   "display_name": "Python 3 (ipykernel)",
   "language": "python",
   "name": "python3"
  },
  "language_info": {
   "codemirror_mode": {
    "name": "ipython",
    "version": 3
   },
   "file_extension": ".py",
   "mimetype": "text/x-python",
   "name": "python",
   "nbconvert_exporter": "python",
   "pygments_lexer": "ipython3",
   "version": "3.10.7"
  }
 },
 "nbformat": 4,
 "nbformat_minor": 5
}
