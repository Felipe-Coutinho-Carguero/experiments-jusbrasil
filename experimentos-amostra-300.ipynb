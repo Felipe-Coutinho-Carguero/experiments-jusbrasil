{
 "cells": [
  {
   "cell_type": "code",
   "execution_count": 8,
   "id": "5056db12",
   "metadata": {
    "scrolled": true
   },
   "outputs": [],
   "source": [
    "import os\n",
    "import json\n",
    "import requests\n",
    "import pandas as pd\n",
    "\n",
    "import pytz\n",
    "import time\n",
    "from datetime import datetime\n",
    "\n",
    "from dotenv import load_dotenv"
   ]
  },
  {
   "cell_type": "code",
   "execution_count": 9,
   "id": "4e9caec7",
   "metadata": {},
   "outputs": [],
   "source": [
    "load_dotenv()\n",
    "TOKEN = os.getenv('JUSBRASIL_TOKEN')"
   ]
  },
  {
   "cell_type": "code",
   "execution_count": 10,
   "id": "96147d66",
   "metadata": {},
   "outputs": [],
   "source": [
    "def get_datetime_now(timezone=\"America/Sao_Paulo\"):\n",
    "    return datetime.now(tz=pytz.timezone(\"America/Sao_Paulo\"))"
   ]
  },
  {
   "cell_type": "code",
   "execution_count": 11,
   "id": "15425441",
   "metadata": {},
   "outputs": [],
   "source": [
    "def background_check(cpf, pagination=None, route_path='background_check/search', token=TOKEN):\n",
    "    headers = {'Content-Type': 'application/json'}\n",
    "    \n",
    "    url = f'https://op.digesto.com.br/api/{route_path}'\n",
    "    \n",
    "    payload = {'document': f'{cpf.zfill(11)}'}\n",
    "    if pagination and 'size' in pagination.keys() and 'cursor' in pagination.keys():\n",
    "        payload.update(pagination)\n",
    "\n",
    "    response = requests.request('POST', url, headers=headers, json=payload, auth=(f'{token}', ''))\n",
    "    \n",
    "    parsed = None\n",
    "    print(response.status_code)\n",
    "    if response.status_code == 200:\n",
    "        parsed = json.loads(response.text)\n",
    "    \n",
    "    return parsed"
   ]
  },
  {
   "cell_type": "code",
   "execution_count": 12,
   "id": "1b92e375",
   "metadata": {},
   "outputs": [],
   "source": [
    "def get_execution_time(parsed):\n",
    "    execution_time, extensions_execution_time = -1, -1\n",
    "    \n",
    "    if parsed and parsed.get('extensions'):\n",
    "        execution_time, extensions_execution_time = parsed.get('extensions').get('executionTime', -1), parsed.get('extensions').get('extensionsExecutionTime', -1)\n",
    "        \n",
    "    return execution_time, extensions_execution_time"
   ]
  },
  {
   "cell_type": "code",
   "execution_count": 13,
   "id": "2c00b982",
   "metadata": {},
   "outputs": [],
   "source": [
    "def get_cursor(parsed):\n",
    "    return parsed.get('data').get('root').get('crmLawsuitsByPersonId').get('pageInfo').get('endCursor')"
   ]
  },
  {
   "cell_type": "code",
   "execution_count": 14,
   "id": "74a7f185",
   "metadata": {},
   "outputs": [],
   "source": [
    "def get_has_next_page(parsed):\n",
    "    return parsed.get('data').get('root').get('crmLawsuitsByPersonId').get('pageInfo').get('hasNextPage')"
   ]
  },
  {
   "cell_type": "code",
   "execution_count": 15,
   "id": "401032ea",
   "metadata": {},
   "outputs": [],
   "source": [
    "def get_next_page_info(parsed, n_results_per_page = 10):\n",
    "    assert(n_results_per_page <= 500)\n",
    "    dict_pagination = None\n",
    "    \n",
    "    if parsed:\n",
    "        cursor = get_cursor(parsed)\n",
    "\n",
    "        if get_has_next_page(parsed):\n",
    "            dict_pagination = {'pagination': {'size': n_results_per_page, 'cursor': cursor}}\n",
    "        \n",
    "    return dict_pagination"
   ]
  },
  {
   "cell_type": "code",
   "execution_count": 16,
   "id": "f5946faf",
   "metadata": {},
   "outputs": [],
   "source": [
    "def normalize_driver_data(parsed):\n",
    "    df = None\n",
    "    if parsed:\n",
    "        df = pd.json_normalize(parsed.get('data').get('root').get('crmLawsuitsByPersonId').get('edges'), sep='_', max_level=2)\n",
    "    return df"
   ]
  },
  {
   "cell_type": "code",
   "execution_count": 17,
   "id": "815472bd",
   "metadata": {
    "scrolled": false
   },
   "outputs": [],
   "source": [
    "def pipeline_search_driver_lawsuits(cpf, sleep_time_among_requests = 0.5):\n",
    "    total_execution_time = 0\n",
    "    total_extensions_execution_time = 0\n",
    "    \n",
    "    has_next_page = True\n",
    "    last_cursor = None\n",
    "    cursor = None\n",
    "    dict_pagination = None\n",
    "    \n",
    "    df_all_data_driver = pd.DataFrame()\n",
    "\n",
    "    page = 1\n",
    "    while has_next_page:\n",
    "        parsed = background_check(f'{cpf.zfill(11)}', pagination=dict_pagination)\n",
    "        \n",
    "        execution_time, extensions_execution_time = get_execution_time(parsed)\n",
    "        total_execution_time += execution_time\n",
    "        extensions_execution_time += extensions_execution_time\n",
    "        \n",
    "        df_page_data_driver = normalize_driver_data(parsed)\n",
    "        \n",
    "        df_page_data_driver['dt_search_for_lawsuits'] = pd.to_datetime(get_datetime_now().replace(tzinfo=None))\n",
    "        df_page_data_driver['page'] = page\n",
    "        df_page_data_driver['execution_time'] = execution_time\n",
    "        df_page_data_driver['extensions_execution_time'] = extensions_execution_time\n",
    "        \n",
    "        df_all_data_driver = pd.concat([df_all_data_driver, df_page_data_driver], axis=0)\n",
    "\n",
    "        dict_pagination = get_next_page_info(parsed, n_results_per_page=10)\n",
    "\n",
    "        last_cursor = cursor\n",
    "        cursor = get_cursor(parsed)\n",
    "        has_next_page = get_has_next_page(parsed)\n",
    "\n",
    "        if last_cursor == cursor:\n",
    "            break\n",
    "        \n",
    "        page += 1\n",
    "        time.sleep(sleep_time_among_requests)\n",
    "\n",
    "    df_all_data_driver['total_execution_time'] = total_execution_time\n",
    "    df_all_data_driver['total_extensions_execution_time'] = extensions_execution_time\n",
    "    \n",
    "    return df_all_data_driver.drop_duplicates()"
   ]
  },
  {
   "cell_type": "code",
   "execution_count": 18,
   "id": "d2774d18",
   "metadata": {},
   "outputs": [],
   "source": [
    "def get_lawsuit_details(cnj, tipo_numero=5, route_path='tribproc/', token=TOKEN):\n",
    "    headers = {'Content-Type': 'application/json'}\n",
    "    \n",
    "    url = f'https://op.digesto.com.br/api/{route_path}/{cnj}?tipo_numero={tipo_numero}'\n",
    "\n",
    "    response = requests.request('GET', url, headers=headers, auth=(f'{token}', ''))\n",
    "    \n",
    "    parsed = None\n",
    "    \n",
    "    if response.status_code == 200:\n",
    "        parsed = json.loads(response.text)\n",
    "    \n",
    "    return parsed"
   ]
  },
  {
   "cell_type": "code",
   "execution_count": 19,
   "id": "527ba4a4",
   "metadata": {},
   "outputs": [],
   "source": [
    "def normalize_lawsuit_data(parsed):\n",
    "    df = None\n",
    "    if parsed:\n",
    "        df = pd.json_normalize(parsed, sep='_')\n",
    "    return df"
   ]
  },
  {
   "cell_type": "code",
   "execution_count": 20,
   "id": "c3ed3332",
   "metadata": {},
   "outputs": [],
   "source": [
    "def pipeline_search_lawsuit_details(cnj):\n",
    "    df_lawsuit_details = pd.DataFrame()\n",
    "    \n",
    "    lawsuit_details = get_lawsuit_details(f'{cnj.strip()}')\n",
    "    if lawsuit_details:\n",
    "        df_lawsuit_details = normalize_lawsuit_data(lawsuit_details)\n",
    "        df_lawsuit_details['dt_search_lawsuit_details'] = pd.to_datetime(get_datetime_now().replace(tzinfo=None))\n",
    "    \n",
    "    return df_lawsuit_details"
   ]
  },
  {
   "cell_type": "code",
   "execution_count": 21,
   "id": "a79dcc0b",
   "metadata": {},
   "outputs": [],
   "source": [
    "def pipeline_search_lawsuits_details(list_cnjs):\n",
    "    df_lawsuits_details = pd.DataFrame()\n",
    "    \n",
    "    for cnj in list_cnjs:\n",
    "        df_lawsuit_details = pipeline_search_lawsuit_details(cnj)\n",
    "        df_lawsuits_details = pd.concat([df_lawsuits_details, df_lawsuit_details], axis=0)\n",
    "    \n",
    "    return df_lawsuits_details"
   ]
  },
  {
   "cell_type": "code",
   "execution_count": 22,
   "id": "e91b88c2",
   "metadata": {},
   "outputs": [],
   "source": [
    "df_cpfs = pd.read_csv('data/amostra_300.csv')\n",
    "df_cpfs['cod_cpf'] = df_cpfs['cod_cpf'].astype(str).str.zfill(11)"
   ]
  },
  {
   "cell_type": "code",
   "execution_count": 24,
   "id": "920a9d47",
   "metadata": {
    "scrolled": true
   },
   "outputs": [
    {
     "name": "stdout",
     "output_type": "stream",
     "text": [
      "18263429234\n",
      "200\n",
      "46915001549\n",
      "200\n",
      "36903647368\n",
      "200\n",
      "99443228149\n",
      "200\n",
      "43323650115\n",
      "200\n",
      "79652760110\n",
      "200\n",
      "03820705694\n",
      "200\n",
      "00710417101\n",
      "200\n",
      "87732920104\n",
      "200\n",
      "27899225191\n",
      "200\n",
      "74410741691\n",
      "200\n",
      "10365284645\n",
      "200\n",
      "44662580153\n",
      "200\n",
      "57156417134\n",
      "200\n",
      "17112010144\n",
      "200\n",
      "14141353191\n",
      "200\n",
      "58049720144\n",
      "200\n",
      "89210352904\n",
      "200\n",
      "41585178187\n",
      "200\n",
      "76730263334\n",
      "200\n",
      "40536572100\n",
      "200\n",
      "27344517191\n",
      "200\n"
     ]
    },
    {
     "name": "stderr",
     "output_type": "stream",
     "text": [
      "C:\\Users\\prove\\AppData\\Local\\Temp\\ipykernel_19396\\2496197294.py:17: FutureWarning: In a future version, object-dtype columns with all-bool values will not be included in reductions with bool_only=True. Explicitly cast to bool dtype instead.\n",
      "  df_all_drivers = pd.concat([df_all_drivers, final_df], axis=0)\n"
     ]
    },
    {
     "name": "stdout",
     "output_type": "stream",
     "text": [
      "15030504915\n",
      "200\n",
      "33989923900\n",
      "200\n",
      "01454470909\n",
      "200\n",
      "200\n"
     ]
    },
    {
     "name": "stderr",
     "output_type": "stream",
     "text": [
      "C:\\Users\\prove\\AppData\\Local\\Temp\\ipykernel_19396\\2496197294.py:17: FutureWarning: In a future version, object-dtype columns with all-bool values will not be included in reductions with bool_only=True. Explicitly cast to bool dtype instead.\n",
      "  df_all_drivers = pd.concat([df_all_drivers, final_df], axis=0)\n"
     ]
    },
    {
     "name": "stdout",
     "output_type": "stream",
     "text": [
      "30441501168\n",
      "200\n",
      "09512878933\n",
      "200\n",
      "40648842134\n",
      "200\n",
      "01822120926\n",
      "200\n",
      "02180410980\n",
      "200\n",
      "32497369968\n",
      "200\n",
      "77309740963\n",
      "200\n",
      "61802140930\n",
      "200\n",
      "05776720966\n",
      "200\n",
      "06490629909\n",
      "200\n",
      "05246898903\n",
      "200\n",
      "04240344921\n",
      "200\n",
      "02714919901\n",
      "200\n",
      "06549687993\n",
      "200\n"
     ]
    },
    {
     "name": "stderr",
     "output_type": "stream",
     "text": [
      "C:\\Users\\prove\\AppData\\Local\\Temp\\ipykernel_19396\\2496197294.py:17: FutureWarning: In a future version, object-dtype columns with all-bool values will not be included in reductions with bool_only=True. Explicitly cast to bool dtype instead.\n",
      "  df_all_drivers = pd.concat([df_all_drivers, final_df], axis=0)\n"
     ]
    },
    {
     "name": "stdout",
     "output_type": "stream",
     "text": [
      "05112413999\n",
      "200\n",
      "45255784915\n",
      "200\n",
      "39089509968\n",
      "200\n",
      "00042952930\n",
      "200\n",
      "95789626904\n",
      "200\n",
      "02722757940\n",
      "200\n",
      "68026900987\n",
      "200\n",
      "04808435977\n",
      "200\n"
     ]
    },
    {
     "name": "stderr",
     "output_type": "stream",
     "text": [
      "C:\\Users\\prove\\AppData\\Local\\Temp\\ipykernel_19396\\2496197294.py:17: FutureWarning: In a future version, object-dtype columns with all-bool values will not be included in reductions with bool_only=True. Explicitly cast to bool dtype instead.\n",
      "  df_all_drivers = pd.concat([df_all_drivers, final_df], axis=0)\n"
     ]
    },
    {
     "name": "stdout",
     "output_type": "stream",
     "text": [
      "02089131900\n",
      "200\n",
      "83751734953\n",
      "200\n",
      "65533151915\n",
      "200\n",
      "70207097453\n",
      "200\n",
      "42160618268\n",
      "200\n",
      "38612550220\n",
      "200\n",
      "72095237234\n",
      "200\n",
      "93740670053\n",
      "200\n",
      "31467636053\n",
      "200\n",
      "38438968953\n",
      "200\n",
      "02884231943\n",
      "200\n",
      "66473330968\n",
      "200\n",
      "81401221904\n",
      "200\n",
      "27977980827\n",
      "200\n",
      "95800930830\n",
      "200\n",
      "02447278993\n",
      "200\n",
      "01724243802\n",
      "200\n",
      "09763689864\n",
      "200\n",
      "30022034838\n",
      "200\n"
     ]
    },
    {
     "name": "stderr",
     "output_type": "stream",
     "text": [
      "C:\\Users\\prove\\AppData\\Local\\Temp\\ipykernel_19396\\2496197294.py:17: FutureWarning: In a future version, object-dtype columns with all-bool values will not be included in reductions with bool_only=True. Explicitly cast to bool dtype instead.\n",
      "  df_all_drivers = pd.concat([df_all_drivers, final_df], axis=0)\n"
     ]
    },
    {
     "name": "stdout",
     "output_type": "stream",
     "text": [
      "10921809824\n",
      "200\n",
      "01761674803\n",
      "200\n",
      "71110283253\n",
      "200\n",
      "85774549593\n",
      "200\n",
      "36555378832\n",
      "200\n",
      "07021017537\n",
      "200\n",
      "02973424526\n",
      "200\n",
      "01286984548\n",
      "200\n",
      "97628905587\n",
      "200\n",
      "01971712574\n",
      "200\n",
      "07358061527\n",
      "200\n",
      "07614676530\n",
      "200\n",
      "06590807531\n",
      "200\n",
      "00402782550\n",
      "200\n",
      "03158441594\n",
      "200\n",
      "99307537534\n",
      "200\n"
     ]
    },
    {
     "name": "stderr",
     "output_type": "stream",
     "text": [
      "C:\\Users\\prove\\AppData\\Local\\Temp\\ipykernel_19396\\2496197294.py:17: FutureWarning: In a future version, object-dtype columns with all-bool values will not be included in reductions with bool_only=True. Explicitly cast to bool dtype instead.\n",
      "  df_all_drivers = pd.concat([df_all_drivers, final_df], axis=0)\n"
     ]
    },
    {
     "name": "stdout",
     "output_type": "stream",
     "text": [
      "00096913592\n",
      "200\n",
      "02387430123\n",
      "200\n",
      "02767507136\n",
      "200\n",
      "87652935172\n",
      "200\n",
      "93039239104\n",
      "200\n",
      "93843445168\n",
      "200\n",
      "02349437507\n",
      "200\n",
      "01272104150\n",
      "200\n"
     ]
    },
    {
     "name": "stderr",
     "output_type": "stream",
     "text": [
      "C:\\Users\\prove\\AppData\\Local\\Temp\\ipykernel_19396\\2496197294.py:17: FutureWarning: In a future version, object-dtype columns with all-bool values will not be included in reductions with bool_only=True. Explicitly cast to bool dtype instead.\n",
      "  df_all_drivers = pd.concat([df_all_drivers, final_df], axis=0)\n"
     ]
    },
    {
     "name": "stdout",
     "output_type": "stream",
     "text": [
      "95778829191\n",
      "200\n",
      "59059656172\n",
      "200\n",
      "04377751190\n",
      "200\n"
     ]
    },
    {
     "name": "stderr",
     "output_type": "stream",
     "text": [
      "C:\\Users\\prove\\AppData\\Local\\Temp\\ipykernel_19396\\2496197294.py:17: FutureWarning: In a future version, object-dtype columns with all-bool values will not be included in reductions with bool_only=True. Explicitly cast to bool dtype instead.\n",
      "  df_all_drivers = pd.concat([df_all_drivers, final_df], axis=0)\n"
     ]
    },
    {
     "name": "stdout",
     "output_type": "stream",
     "text": [
      "91225124115\n",
      "200\n",
      "03215460246\n",
      "200\n",
      "76402304204\n",
      "200\n",
      "04867652458\n",
      "200\n",
      "11291122680\n",
      "200\n",
      "04634742608\n",
      "200\n",
      "07229301602\n",
      "200\n",
      "04724133171\n",
      "200\n",
      "61773972634\n",
      "200\n",
      "90693353104\n",
      "200\n",
      "47522828104\n",
      "200\n",
      "63982790182\n",
      "200\n",
      "92287123172\n",
      "200\n",
      "98938193187\n",
      "200\n",
      "03012228195\n",
      "200\n",
      "02640797107\n",
      "200\n",
      "88493091120\n",
      "200\n",
      "81164700197\n",
      "200\n",
      "04996344113\n",
      "200\n"
     ]
    },
    {
     "name": "stderr",
     "output_type": "stream",
     "text": [
      "C:\\Users\\prove\\AppData\\Local\\Temp\\ipykernel_19396\\2496197294.py:17: FutureWarning: In a future version, object-dtype columns with all-bool values will not be included in reductions with bool_only=True. Explicitly cast to bool dtype instead.\n",
      "  df_all_drivers = pd.concat([df_all_drivers, final_df], axis=0)\n"
     ]
    },
    {
     "name": "stdout",
     "output_type": "stream",
     "text": [
      "98037838153\n",
      "200\n",
      "87037459100\n",
      "200\n",
      "50375750100\n",
      "200\n",
      "77939271172\n",
      "200\n"
     ]
    },
    {
     "name": "stderr",
     "output_type": "stream",
     "text": [
      "C:\\Users\\prove\\AppData\\Local\\Temp\\ipykernel_19396\\2496197294.py:17: FutureWarning: In a future version, object-dtype columns with all-bool values will not be included in reductions with bool_only=True. Explicitly cast to bool dtype instead.\n",
      "  df_all_drivers = pd.concat([df_all_drivers, final_df], axis=0)\n"
     ]
    },
    {
     "name": "stdout",
     "output_type": "stream",
     "text": [
      "34339434000\n",
      "200\n"
     ]
    },
    {
     "name": "stderr",
     "output_type": "stream",
     "text": [
      "C:\\Users\\prove\\AppData\\Local\\Temp\\ipykernel_19396\\2496197294.py:17: FutureWarning: In a future version, object-dtype columns with all-bool values will not be included in reductions with bool_only=True. Explicitly cast to bool dtype instead.\n",
      "  df_all_drivers = pd.concat([df_all_drivers, final_df], axis=0)\n"
     ]
    },
    {
     "name": "stdout",
     "output_type": "stream",
     "text": [
      "04063153100\n",
      "200\n",
      "51460858115\n",
      "200\n",
      "01459426193\n",
      "200\n",
      "70173933173\n",
      "200\n"
     ]
    },
    {
     "name": "stderr",
     "output_type": "stream",
     "text": [
      "C:\\Users\\prove\\AppData\\Local\\Temp\\ipykernel_19396\\2496197294.py:17: FutureWarning: In a future version, object-dtype columns with all-bool values will not be included in reductions with bool_only=True. Explicitly cast to bool dtype instead.\n",
      "  df_all_drivers = pd.concat([df_all_drivers, final_df], axis=0)\n"
     ]
    },
    {
     "name": "stdout",
     "output_type": "stream",
     "text": [
      "00105586161\n",
      "200\n",
      "72131136153\n",
      "200\n",
      "04103259108\n",
      "200\n"
     ]
    },
    {
     "name": "stderr",
     "output_type": "stream",
     "text": [
      "C:\\Users\\prove\\AppData\\Local\\Temp\\ipykernel_19396\\2496197294.py:17: FutureWarning: In a future version, object-dtype columns with all-bool values will not be included in reductions with bool_only=True. Explicitly cast to bool dtype instead.\n",
      "  df_all_drivers = pd.concat([df_all_drivers, final_df], axis=0)\n"
     ]
    },
    {
     "name": "stdout",
     "output_type": "stream",
     "text": [
      "01387947150\n",
      "200\n",
      "00486412199\n",
      "200\n",
      "04162106193\n",
      "200\n",
      "01002025192\n",
      "200\n",
      "01237887143\n",
      "200\n",
      "36177164153\n",
      "200\n",
      "54436958191\n",
      "200\n",
      "27137171087\n",
      "200\n",
      "00118805037\n",
      "200\n",
      "46794611368\n",
      "200\n",
      "02364343143\n",
      "200\n",
      "38403528191\n",
      "200\n",
      "00565298135\n",
      "200\n",
      "97486280191\n",
      "200\n",
      "68997981153\n",
      "200\n",
      "00993571190\n",
      "200\n",
      "72481056191\n",
      "200\n",
      "03103590903\n",
      "200\n",
      "73686107287\n",
      "200\n",
      "00871794152\n",
      "200\n"
     ]
    },
    {
     "name": "stderr",
     "output_type": "stream",
     "text": [
      "C:\\Users\\prove\\AppData\\Local\\Temp\\ipykernel_19396\\2496197294.py:17: FutureWarning: In a future version, object-dtype columns with all-bool values will not be included in reductions with bool_only=True. Explicitly cast to bool dtype instead.\n",
      "  df_all_drivers = pd.concat([df_all_drivers, final_df], axis=0)\n"
     ]
    },
    {
     "name": "stdout",
     "output_type": "stream",
     "text": [
      "99135647191\n",
      "200\n",
      "79586627187\n",
      "200\n",
      "82908290197\n",
      "200\n",
      "01224543246\n",
      "200\n",
      "03557794121\n",
      "200\n",
      "71932348115\n",
      "200\n",
      "47468378134\n",
      "200\n",
      "45181195920\n",
      "200\n"
     ]
    },
    {
     "name": "stderr",
     "output_type": "stream",
     "text": [
      "C:\\Users\\prove\\AppData\\Local\\Temp\\ipykernel_19396\\2496197294.py:17: FutureWarning: In a future version, object-dtype columns with all-bool values will not be included in reductions with bool_only=True. Explicitly cast to bool dtype instead.\n",
      "  df_all_drivers = pd.concat([df_all_drivers, final_df], axis=0)\n"
     ]
    },
    {
     "name": "stdout",
     "output_type": "stream",
     "text": [
      "01461296102\n",
      "200\n",
      "66697280182\n",
      "200\n",
      "56739362149\n",
      "200\n",
      "62119990115\n",
      "200\n",
      "73614858120\n",
      "200\n",
      "91704138191\n",
      "200\n",
      "01666521132\n",
      "200\n",
      "41533798168\n",
      "200\n",
      "01325405175\n",
      "200\n",
      "00992677130\n",
      "200\n",
      "59455225115\n",
      "200\n",
      "04064697170\n",
      "200\n",
      "87121875187\n",
      "200\n"
     ]
    },
    {
     "name": "stderr",
     "output_type": "stream",
     "text": [
      "C:\\Users\\prove\\AppData\\Local\\Temp\\ipykernel_19396\\2496197294.py:17: FutureWarning: In a future version, object-dtype columns with all-bool values will not be included in reductions with bool_only=True. Explicitly cast to bool dtype instead.\n",
      "  df_all_drivers = pd.concat([df_all_drivers, final_df], axis=0)\n"
     ]
    },
    {
     "name": "stdout",
     "output_type": "stream",
     "text": [
      "28739825949\n",
      "200\n",
      "95971246100\n",
      "200\n",
      "01682965198\n",
      "200\n",
      "04536939970\n",
      "200\n",
      "200\n",
      "92137431149\n",
      "200\n",
      "48991406149\n",
      "200\n",
      "01036209156\n",
      "200\n",
      "89433386191\n",
      "200\n",
      "04483293109\n",
      "200\n",
      "01301501182\n",
      "200\n",
      "64538869287\n",
      "200\n",
      "03204646289\n",
      "200\n",
      "87354829404\n",
      "200\n",
      "07097699469\n",
      "200\n",
      "02354505450\n",
      "200\n",
      "06365178450\n",
      "200\n",
      "04925488465\n",
      "200\n",
      "03749404950\n",
      "200\n",
      "04294169974\n",
      "200\n",
      "07414637921\n",
      "200\n",
      "61967521972\n",
      "200\n",
      "77616790968\n",
      "200\n",
      "92693644020\n",
      "200\n",
      "66378273987\n",
      "200\n",
      "01919723986\n",
      "200\n"
     ]
    },
    {
     "name": "stderr",
     "output_type": "stream",
     "text": [
      "C:\\Users\\prove\\AppData\\Local\\Temp\\ipykernel_19396\\2496197294.py:17: FutureWarning: In a future version, object-dtype columns with all-bool values will not be included in reductions with bool_only=True. Explicitly cast to bool dtype instead.\n",
      "  df_all_drivers = pd.concat([df_all_drivers, final_df], axis=0)\n"
     ]
    },
    {
     "name": "stdout",
     "output_type": "stream",
     "text": [
      "50244752915\n",
      "200\n",
      "41926498291\n",
      "200\n",
      "04703056909\n",
      "200\n",
      "02994832909\n",
      "200\n",
      "88131475972\n",
      "200\n",
      "06851590948\n",
      "200\n",
      "03242350979\n",
      "200\n",
      "85975508215\n",
      "200\n",
      "09207714914\n",
      "200\n",
      "03439926125\n",
      "200\n",
      "04942968950\n",
      "200\n",
      "07817930929\n",
      "200\n",
      "06274437967\n",
      "200\n",
      "04286050955\n",
      "200\n",
      "03508629902\n",
      "200\n",
      "06630833970\n",
      "200\n",
      "06203867977\n",
      "200\n",
      "51872102972\n",
      "200\n",
      "05823095902\n",
      "200\n",
      "07904288907\n",
      "200\n",
      "02952511900\n",
      "200\n",
      "00973596961\n",
      "200\n",
      "67535208991\n",
      "200\n",
      "03163910939\n",
      "200\n",
      "82226121153\n",
      "200\n",
      "02383908967\n",
      "200\n",
      "04746211469\n",
      "200\n",
      "62515624200\n",
      "200\n",
      "02280810921\n",
      "200\n",
      "01669078205\n",
      "200\n",
      "23821078120\n",
      "200\n",
      "88126412291\n",
      "200\n"
     ]
    },
    {
     "name": "stderr",
     "output_type": "stream",
     "text": [
      "C:\\Users\\prove\\AppData\\Local\\Temp\\ipykernel_19396\\2496197294.py:17: FutureWarning: In a future version, object-dtype columns with all-bool values will not be included in reductions with bool_only=True. Explicitly cast to bool dtype instead.\n",
      "  df_all_drivers = pd.concat([df_all_drivers, final_df], axis=0)\n"
     ]
    },
    {
     "name": "stdout",
     "output_type": "stream",
     "text": [
      "28994515291\n",
      "200\n",
      "70485119234\n",
      "200\n",
      "69235783291\n",
      "200\n",
      "88913724200\n",
      "200\n",
      "00356357201\n",
      "200\n",
      "72062584253\n",
      "200\n",
      "99803216287\n",
      "200\n"
     ]
    },
    {
     "name": "stderr",
     "output_type": "stream",
     "text": [
      "C:\\Users\\prove\\AppData\\Local\\Temp\\ipykernel_19396\\2496197294.py:17: FutureWarning: In a future version, object-dtype columns with all-bool values will not be included in reductions with bool_only=True. Explicitly cast to bool dtype instead.\n",
      "  df_all_drivers = pd.concat([df_all_drivers, final_df], axis=0)\n"
     ]
    },
    {
     "name": "stdout",
     "output_type": "stream",
     "text": [
      "69261776272\n",
      "200\n",
      "86487698253\n",
      "200\n",
      "92062920210\n",
      "200\n",
      "02110846119\n",
      "200\n",
      "75364387291\n",
      "200\n"
     ]
    },
    {
     "name": "stderr",
     "output_type": "stream",
     "text": [
      "C:\\Users\\prove\\AppData\\Local\\Temp\\ipykernel_19396\\2496197294.py:17: FutureWarning: In a future version, object-dtype columns with all-bool values will not be included in reductions with bool_only=True. Explicitly cast to bool dtype instead.\n",
      "  df_all_drivers = pd.concat([df_all_drivers, final_df], axis=0)\n"
     ]
    },
    {
     "name": "stdout",
     "output_type": "stream",
     "text": [
      "00049543270\n",
      "200\n",
      "03006658221\n",
      "200\n"
     ]
    },
    {
     "name": "stderr",
     "output_type": "stream",
     "text": [
      "C:\\Users\\prove\\AppData\\Local\\Temp\\ipykernel_19396\\2496197294.py:17: FutureWarning: In a future version, object-dtype columns with all-bool values will not be included in reductions with bool_only=True. Explicitly cast to bool dtype instead.\n",
      "  df_all_drivers = pd.concat([df_all_drivers, final_df], axis=0)\n"
     ]
    },
    {
     "name": "stdout",
     "output_type": "stream",
     "text": [
      "62861409215\n",
      "200\n",
      "70101710259\n",
      "200\n",
      "41939778204\n",
      "200\n"
     ]
    },
    {
     "name": "stderr",
     "output_type": "stream",
     "text": [
      "C:\\Users\\prove\\AppData\\Local\\Temp\\ipykernel_19396\\2496197294.py:17: FutureWarning: In a future version, object-dtype columns with all-bool values will not be included in reductions with bool_only=True. Explicitly cast to bool dtype instead.\n",
      "  df_all_drivers = pd.concat([df_all_drivers, final_df], axis=0)\n"
     ]
    },
    {
     "name": "stdout",
     "output_type": "stream",
     "text": [
      "90953045153\n",
      "200\n",
      "78823641268\n",
      "200\n",
      "24195294215\n",
      "200\n",
      "00890772290\n",
      "200\n",
      "82562997204\n",
      "200\n",
      "01918676240\n",
      "200\n"
     ]
    },
    {
     "name": "stderr",
     "output_type": "stream",
     "text": [
      "C:\\Users\\prove\\AppData\\Local\\Temp\\ipykernel_19396\\2496197294.py:17: FutureWarning: In a future version, object-dtype columns with all-bool values will not be included in reductions with bool_only=True. Explicitly cast to bool dtype instead.\n",
      "  df_all_drivers = pd.concat([df_all_drivers, final_df], axis=0)\n"
     ]
    },
    {
     "name": "stdout",
     "output_type": "stream",
     "text": [
      "35134780200\n",
      "200\n",
      "63143151234\n",
      "200\n",
      "68366272249\n",
      "200\n",
      "91685451268\n",
      "200\n",
      "65545052291\n",
      "200\n",
      "00852860285\n",
      "200\n",
      "02771606267\n",
      "200\n",
      "69244022249\n",
      "200\n",
      "28997719220\n",
      "200\n",
      "03207819176\n",
      "200\n",
      "51119765072\n",
      "200\n",
      "53392841072\n",
      "200\n"
     ]
    },
    {
     "name": "stderr",
     "output_type": "stream",
     "text": [
      "C:\\Users\\prove\\AppData\\Local\\Temp\\ipykernel_19396\\2496197294.py:17: FutureWarning: In a future version, object-dtype columns with all-bool values will not be included in reductions with bool_only=True. Explicitly cast to bool dtype instead.\n",
      "  df_all_drivers = pd.concat([df_all_drivers, final_df], axis=0)\n"
     ]
    },
    {
     "name": "stdout",
     "output_type": "stream",
     "text": [
      "00902957066\n",
      "200\n",
      "91998344053\n",
      "200\n",
      "75910322087\n",
      "200\n",
      "01389854302\n",
      "200\n",
      "01304025080\n",
      "200\n",
      "03988859079\n",
      "200\n",
      "68439270097\n",
      "200\n",
      "95068627020\n",
      "200\n",
      "88406202068\n",
      "200\n",
      "02428273906\n",
      "200\n",
      "04981109903\n",
      "200\n"
     ]
    },
    {
     "name": "stderr",
     "output_type": "stream",
     "text": [
      "C:\\Users\\prove\\AppData\\Local\\Temp\\ipykernel_19396\\2496197294.py:17: FutureWarning: In a future version, object-dtype columns with all-bool values will not be included in reductions with bool_only=True. Explicitly cast to bool dtype instead.\n",
      "  df_all_drivers = pd.concat([df_all_drivers, final_df], axis=0)\n"
     ]
    },
    {
     "name": "stdout",
     "output_type": "stream",
     "text": [
      "02362544990\n",
      "200\n",
      "05289086935\n",
      "200\n",
      "10496950975\n",
      "200\n",
      "26096854249\n",
      "200\n",
      "26200575827\n",
      "200\n",
      "07633237805\n",
      "200\n"
     ]
    },
    {
     "name": "stderr",
     "output_type": "stream",
     "text": [
      "C:\\Users\\prove\\AppData\\Local\\Temp\\ipykernel_19396\\2496197294.py:17: FutureWarning: In a future version, object-dtype columns with all-bool values will not be included in reductions with bool_only=True. Explicitly cast to bool dtype instead.\n",
      "  df_all_drivers = pd.concat([df_all_drivers, final_df], axis=0)\n"
     ]
    },
    {
     "name": "stdout",
     "output_type": "stream",
     "text": [
      "33003625802\n",
      "200\n",
      "36452356801\n",
      "200\n",
      "21482348896\n",
      "200\n",
      "34199155864\n",
      "200\n",
      "82753946868\n",
      "200\n",
      "18168616855\n",
      "200\n",
      "18333862802\n",
      "200\n",
      "30446705861\n",
      "200\n"
     ]
    },
    {
     "name": "stderr",
     "output_type": "stream",
     "text": [
      "C:\\Users\\prove\\AppData\\Local\\Temp\\ipykernel_19396\\2496197294.py:17: FutureWarning: In a future version, object-dtype columns with all-bool values will not be included in reductions with bool_only=True. Explicitly cast to bool dtype instead.\n",
      "  df_all_drivers = pd.concat([df_all_drivers, final_df], axis=0)\n"
     ]
    },
    {
     "name": "stdout",
     "output_type": "stream",
     "text": [
      "76731987549\n",
      "200\n",
      "12362973859\n",
      "200\n",
      "05681384810\n",
      "200\n",
      "36046463831\n",
      "200\n",
      "30903487802\n",
      "200\n",
      "39409087899\n",
      "200\n",
      "05256707507\n",
      "200\n"
     ]
    },
    {
     "name": "stderr",
     "output_type": "stream",
     "text": [
      "C:\\Users\\prove\\AppData\\Local\\Temp\\ipykernel_19396\\2496197294.py:17: FutureWarning: In a future version, object-dtype columns with all-bool values will not be included in reductions with bool_only=True. Explicitly cast to bool dtype instead.\n",
      "  df_all_drivers = pd.concat([df_all_drivers, final_df], axis=0)\n"
     ]
    },
    {
     "name": "stdout",
     "output_type": "stream",
     "text": [
      "07613928829\n",
      "200\n",
      "19510899879\n",
      "200\n",
      "10503623903\n",
      "200\n",
      "05874669876\n",
      "200\n",
      "79745512834\n",
      "200\n",
      "34652670877\n",
      "200\n",
      "37645173874\n",
      "200\n",
      "00632083182\n",
      "200\n",
      "03737940371\n",
      "200\n",
      "03710232546\n",
      "200\n",
      "00562286195\n",
      "200\n"
     ]
    },
    {
     "name": "stderr",
     "output_type": "stream",
     "text": [
      "C:\\Users\\prove\\AppData\\Local\\Temp\\ipykernel_19396\\2496197294.py:17: FutureWarning: In a future version, object-dtype columns with all-bool values will not be included in reductions with bool_only=True. Explicitly cast to bool dtype instead.\n",
      "  df_all_drivers = pd.concat([df_all_drivers, final_df], axis=0)\n"
     ]
    },
    {
     "name": "stdout",
     "output_type": "stream",
     "text": [
      "--- 410.6389174461365 seconds ---\n"
     ]
    },
    {
     "ename": "ModuleNotFoundError",
     "evalue": "No module named 'openpyxl'",
     "output_type": "error",
     "traceback": [
      "\u001b[1;31m---------------------------------------------------------------------------\u001b[0m",
      "\u001b[1;31mModuleNotFoundError\u001b[0m                       Traceback (most recent call last)",
      "Cell \u001b[1;32mIn [24], line 27\u001b[0m\n\u001b[0;32m     24\u001b[0m \u001b[38;5;28mprint\u001b[39m(\u001b[38;5;124m\"\u001b[39m\u001b[38;5;124m--- \u001b[39m\u001b[38;5;132;01m%s\u001b[39;00m\u001b[38;5;124m seconds ---\u001b[39m\u001b[38;5;124m\"\u001b[39m \u001b[38;5;241m%\u001b[39m end_time)\n\u001b[0;32m     26\u001b[0m df_all_drivers[\u001b[38;5;124m'\u001b[39m\u001b[38;5;124mtotal_exp_time\u001b[39m\u001b[38;5;124m'\u001b[39m] \u001b[38;5;241m=\u001b[39m end_time\n\u001b[1;32m---> 27\u001b[0m \u001b[43mdf_all_drivers\u001b[49m\u001b[38;5;241;43m.\u001b[39;49m\u001b[43mto_excel\u001b[49m\u001b[43m(\u001b[49m\u001b[38;5;124;43m'\u001b[39;49m\u001b[38;5;124;43mdrivers_lawsuits_details_300.xlsx\u001b[39;49m\u001b[38;5;124;43m'\u001b[39;49m\u001b[43m,\u001b[49m\u001b[43m \u001b[49m\u001b[43mindex\u001b[49m\u001b[38;5;241;43m=\u001b[39;49m\u001b[38;5;28;43;01mFalse\u001b[39;49;00m\u001b[43m)\u001b[49m\n\u001b[0;32m     29\u001b[0m df_all_drivers\u001b[38;5;241m.\u001b[39mhead()\n",
      "File \u001b[1;32m~\\projects\\carguero\\jusbrasil\\jusbrasil\\lib\\site-packages\\pandas\\util\\_decorators.py:211\u001b[0m, in \u001b[0;36mdeprecate_kwarg.<locals>._deprecate_kwarg.<locals>.wrapper\u001b[1;34m(*args, **kwargs)\u001b[0m\n\u001b[0;32m    209\u001b[0m     \u001b[38;5;28;01melse\u001b[39;00m:\n\u001b[0;32m    210\u001b[0m         kwargs[new_arg_name] \u001b[38;5;241m=\u001b[39m new_arg_value\n\u001b[1;32m--> 211\u001b[0m \u001b[38;5;28;01mreturn\u001b[39;00m func(\u001b[38;5;241m*\u001b[39margs, \u001b[38;5;241m*\u001b[39m\u001b[38;5;241m*\u001b[39mkwargs)\n",
      "File \u001b[1;32m~\\projects\\carguero\\jusbrasil\\jusbrasil\\lib\\site-packages\\pandas\\util\\_decorators.py:211\u001b[0m, in \u001b[0;36mdeprecate_kwarg.<locals>._deprecate_kwarg.<locals>.wrapper\u001b[1;34m(*args, **kwargs)\u001b[0m\n\u001b[0;32m    209\u001b[0m     \u001b[38;5;28;01melse\u001b[39;00m:\n\u001b[0;32m    210\u001b[0m         kwargs[new_arg_name] \u001b[38;5;241m=\u001b[39m new_arg_value\n\u001b[1;32m--> 211\u001b[0m \u001b[38;5;28;01mreturn\u001b[39;00m func(\u001b[38;5;241m*\u001b[39margs, \u001b[38;5;241m*\u001b[39m\u001b[38;5;241m*\u001b[39mkwargs)\n",
      "File \u001b[1;32m~\\projects\\carguero\\jusbrasil\\jusbrasil\\lib\\site-packages\\pandas\\core\\generic.py:2373\u001b[0m, in \u001b[0;36mNDFrame.to_excel\u001b[1;34m(self, excel_writer, sheet_name, na_rep, float_format, columns, header, index, index_label, startrow, startcol, engine, merge_cells, encoding, inf_rep, verbose, freeze_panes, storage_options)\u001b[0m\n\u001b[0;32m   2360\u001b[0m \u001b[38;5;28;01mfrom\u001b[39;00m \u001b[38;5;21;01mpandas\u001b[39;00m\u001b[38;5;21;01m.\u001b[39;00m\u001b[38;5;21;01mio\u001b[39;00m\u001b[38;5;21;01m.\u001b[39;00m\u001b[38;5;21;01mformats\u001b[39;00m\u001b[38;5;21;01m.\u001b[39;00m\u001b[38;5;21;01mexcel\u001b[39;00m \u001b[38;5;28;01mimport\u001b[39;00m ExcelFormatter\n\u001b[0;32m   2362\u001b[0m formatter \u001b[38;5;241m=\u001b[39m ExcelFormatter(\n\u001b[0;32m   2363\u001b[0m     df,\n\u001b[0;32m   2364\u001b[0m     na_rep\u001b[38;5;241m=\u001b[39mna_rep,\n\u001b[1;32m   (...)\u001b[0m\n\u001b[0;32m   2371\u001b[0m     inf_rep\u001b[38;5;241m=\u001b[39minf_rep,\n\u001b[0;32m   2372\u001b[0m )\n\u001b[1;32m-> 2373\u001b[0m \u001b[43mformatter\u001b[49m\u001b[38;5;241;43m.\u001b[39;49m\u001b[43mwrite\u001b[49m\u001b[43m(\u001b[49m\n\u001b[0;32m   2374\u001b[0m \u001b[43m    \u001b[49m\u001b[43mexcel_writer\u001b[49m\u001b[43m,\u001b[49m\n\u001b[0;32m   2375\u001b[0m \u001b[43m    \u001b[49m\u001b[43msheet_name\u001b[49m\u001b[38;5;241;43m=\u001b[39;49m\u001b[43msheet_name\u001b[49m\u001b[43m,\u001b[49m\n\u001b[0;32m   2376\u001b[0m \u001b[43m    \u001b[49m\u001b[43mstartrow\u001b[49m\u001b[38;5;241;43m=\u001b[39;49m\u001b[43mstartrow\u001b[49m\u001b[43m,\u001b[49m\n\u001b[0;32m   2377\u001b[0m \u001b[43m    \u001b[49m\u001b[43mstartcol\u001b[49m\u001b[38;5;241;43m=\u001b[39;49m\u001b[43mstartcol\u001b[49m\u001b[43m,\u001b[49m\n\u001b[0;32m   2378\u001b[0m \u001b[43m    \u001b[49m\u001b[43mfreeze_panes\u001b[49m\u001b[38;5;241;43m=\u001b[39;49m\u001b[43mfreeze_panes\u001b[49m\u001b[43m,\u001b[49m\n\u001b[0;32m   2379\u001b[0m \u001b[43m    \u001b[49m\u001b[43mengine\u001b[49m\u001b[38;5;241;43m=\u001b[39;49m\u001b[43mengine\u001b[49m\u001b[43m,\u001b[49m\n\u001b[0;32m   2380\u001b[0m \u001b[43m    \u001b[49m\u001b[43mstorage_options\u001b[49m\u001b[38;5;241;43m=\u001b[39;49m\u001b[43mstorage_options\u001b[49m\u001b[43m,\u001b[49m\n\u001b[0;32m   2381\u001b[0m \u001b[43m\u001b[49m\u001b[43m)\u001b[49m\n",
      "File \u001b[1;32m~\\projects\\carguero\\jusbrasil\\jusbrasil\\lib\\site-packages\\pandas\\io\\formats\\excel.py:911\u001b[0m, in \u001b[0;36mExcelFormatter.write\u001b[1;34m(self, writer, sheet_name, startrow, startcol, freeze_panes, engine, storage_options)\u001b[0m\n\u001b[0;32m    907\u001b[0m     need_save \u001b[38;5;241m=\u001b[39m \u001b[38;5;28;01mFalse\u001b[39;00m\n\u001b[0;32m    908\u001b[0m \u001b[38;5;28;01melse\u001b[39;00m:\n\u001b[0;32m    909\u001b[0m     \u001b[38;5;66;03m# error: Cannot instantiate abstract class 'ExcelWriter' with abstract\u001b[39;00m\n\u001b[0;32m    910\u001b[0m     \u001b[38;5;66;03m# attributes 'engine', 'save', 'supported_extensions' and 'write_cells'\u001b[39;00m\n\u001b[1;32m--> 911\u001b[0m     writer \u001b[38;5;241m=\u001b[39m \u001b[43mExcelWriter\u001b[49m\u001b[43m(\u001b[49m\u001b[43m  \u001b[49m\u001b[38;5;66;43;03m# type: ignore[abstract]\u001b[39;49;00m\n\u001b[0;32m    912\u001b[0m \u001b[43m        \u001b[49m\u001b[43mwriter\u001b[49m\u001b[43m,\u001b[49m\u001b[43m \u001b[49m\u001b[43mengine\u001b[49m\u001b[38;5;241;43m=\u001b[39;49m\u001b[43mengine\u001b[49m\u001b[43m,\u001b[49m\u001b[43m \u001b[49m\u001b[43mstorage_options\u001b[49m\u001b[38;5;241;43m=\u001b[39;49m\u001b[43mstorage_options\u001b[49m\n\u001b[0;32m    913\u001b[0m \u001b[43m    \u001b[49m\u001b[43m)\u001b[49m\n\u001b[0;32m    914\u001b[0m     need_save \u001b[38;5;241m=\u001b[39m \u001b[38;5;28;01mTrue\u001b[39;00m\n\u001b[0;32m    916\u001b[0m \u001b[38;5;28;01mtry\u001b[39;00m:\n",
      "File \u001b[1;32m~\\projects\\carguero\\jusbrasil\\jusbrasil\\lib\\site-packages\\pandas\\io\\excel\\_openpyxl.py:56\u001b[0m, in \u001b[0;36mOpenpyxlWriter.__init__\u001b[1;34m(self, path, engine, date_format, datetime_format, mode, storage_options, if_sheet_exists, engine_kwargs, **kwargs)\u001b[0m\n\u001b[0;32m     43\u001b[0m \u001b[38;5;28;01mdef\u001b[39;00m \u001b[38;5;21m__init__\u001b[39m(\n\u001b[0;32m     44\u001b[0m     \u001b[38;5;28mself\u001b[39m,\n\u001b[0;32m     45\u001b[0m     path: FilePath \u001b[38;5;241m|\u001b[39m WriteExcelBuffer \u001b[38;5;241m|\u001b[39m ExcelWriter,\n\u001b[1;32m   (...)\u001b[0m\n\u001b[0;32m     54\u001b[0m ) \u001b[38;5;241m-\u001b[39m\u001b[38;5;241m>\u001b[39m \u001b[38;5;28;01mNone\u001b[39;00m:\n\u001b[0;32m     55\u001b[0m     \u001b[38;5;66;03m# Use the openpyxl module as the Excel writer.\u001b[39;00m\n\u001b[1;32m---> 56\u001b[0m     \u001b[38;5;28;01mfrom\u001b[39;00m \u001b[38;5;21;01mopenpyxl\u001b[39;00m\u001b[38;5;21;01m.\u001b[39;00m\u001b[38;5;21;01mworkbook\u001b[39;00m \u001b[38;5;28;01mimport\u001b[39;00m Workbook\n\u001b[0;32m     58\u001b[0m     engine_kwargs \u001b[38;5;241m=\u001b[39m combine_kwargs(engine_kwargs, kwargs)\n\u001b[0;32m     60\u001b[0m     \u001b[38;5;28msuper\u001b[39m()\u001b[38;5;241m.\u001b[39m\u001b[38;5;21m__init__\u001b[39m(\n\u001b[0;32m     61\u001b[0m         path,\n\u001b[0;32m     62\u001b[0m         mode\u001b[38;5;241m=\u001b[39mmode,\n\u001b[1;32m   (...)\u001b[0m\n\u001b[0;32m     65\u001b[0m         engine_kwargs\u001b[38;5;241m=\u001b[39mengine_kwargs,\n\u001b[0;32m     66\u001b[0m     )\n",
      "\u001b[1;31mModuleNotFoundError\u001b[0m: No module named 'openpyxl'"
     ]
    }
   ],
   "source": [
    "cpfs = df_cpfs['cod_cpf'].values\n",
    "\n",
    "cpfs_not_found = []\n",
    "cpfs_not_found_details = []\n",
    "df_all_drivers = pd.DataFrame()\n",
    "\n",
    "start_time = time.time()\n",
    "for cpf in cpfs: \n",
    "    print(f'{cpf}')\n",
    "    df_driver_lawsuits = pipeline_search_driver_lawsuits(f'{cpf}')\n",
    "    \n",
    "    if not df_driver_lawsuits.empty:\n",
    "        list_cnjs = df_driver_lawsuits['node_cnjNumber_number'].tolist()\n",
    "        df_lawsuits_details = pipeline_search_lawsuits_details(list_cnjs)\n",
    "        if not df_lawsuits_details.empty and 'numero' in df_lawsuits_details.columns:\n",
    "            final_df = df_driver_lawsuits.merge(df_lawsuits_details, left_on='node_cnjNumber_number', right_on='numero')\n",
    "            df_all_drivers = pd.concat([df_all_drivers, final_df], axis=0)\n",
    "        else:\n",
    "            cpfs_not_found_details.append(cpf)\n",
    "    else:\n",
    "        cpfs_not_found.append(cpf)\n",
    "\n",
    "end_time = (time.time() - start_time)\n",
    "print(\"--- %s seconds ---\" % end_time)\n",
    "\n",
    "df_all_drivers['total_exp_time'] = end_time\n",
    "df_all_drivers.to_excel('drivers_lawsuits_details_300.xlsx', index=False)\n",
    "\n",
    "df_all_drivers.head()"
   ]
  },
  {
   "cell_type": "code",
   "execution_count": 26,
   "id": "e6392ecb",
   "metadata": {},
   "outputs": [
    {
     "data": {
      "text/html": [
       "<div>\n",
       "<style scoped>\n",
       "    .dataframe tbody tr th:only-of-type {\n",
       "        vertical-align: middle;\n",
       "    }\n",
       "\n",
       "    .dataframe tbody tr th {\n",
       "        vertical-align: top;\n",
       "    }\n",
       "\n",
       "    .dataframe thead th {\n",
       "        text-align: right;\n",
       "    }\n",
       "</style>\n",
       "<table border=\"1\" class=\"dataframe\">\n",
       "  <thead>\n",
       "    <tr style=\"text-align: right;\">\n",
       "      <th></th>\n",
       "      <th>matchRelatedPeople_name</th>\n",
       "      <th>matchRelatedPeople_personId</th>\n",
       "      <th>matchRelatedPeople_role_normalized</th>\n",
       "      <th>matchRelatedPeople_role_rawValue</th>\n",
       "      <th>node_cnjNumber_number</th>\n",
       "      <th>node_court_rawValue</th>\n",
       "      <th>node_distributionDate</th>\n",
       "      <th>node_distributionType</th>\n",
       "      <th>node_district</th>\n",
       "      <th>node_forum</th>\n",
       "      <th>...</th>\n",
       "      <th>segredo_justica</th>\n",
       "      <th>arquivado</th>\n",
       "      <th>classes</th>\n",
       "      <th>acessos</th>\n",
       "      <th>uf</th>\n",
       "      <th>criadoEm</th>\n",
       "      <th>partes</th>\n",
       "      <th>dt_search_lawsuit_details</th>\n",
       "      <th>status_op</th>\n",
       "      <th>total_exp_time</th>\n",
       "    </tr>\n",
       "  </thead>\n",
       "  <tbody>\n",
       "    <tr>\n",
       "      <th>0</th>\n",
       "      <td>Rubens da Silva Fernandes</td>\n",
       "      <td>x447043544110984535:24</td>\n",
       "      <td>Autor</td>\n",
       "      <td>AUTOR(A) DO FATO</td>\n",
       "      <td>5006597-20.2021.8.13.0035</td>\n",
       "      <td>TJMG</td>\n",
       "      <td>1633316400000</td>\n",
       "      <td>Sorteio</td>\n",
       "      <td>Araguari - Juizado Especial</td>\n",
       "      <td>None</td>\n",
       "      <td>...</td>\n",
       "      <td>False</td>\n",
       "      <td>False</td>\n",
       "      <td>[DIREITO PENAL / CRIMES PRATICADOS POR PARTICU...</td>\n",
       "      <td>[2021-10-05 03:59:08]</td>\n",
       "      <td>MG</td>\n",
       "      <td>2021-10-05T03:59:08</td>\n",
       "      <td>[[707289463, 8376968, AUTORIDADE POLICIAL, AUT...</td>\n",
       "      <td>2022-10-10 11:11:25.948199</td>\n",
       "      <td>NaN</td>\n",
       "      <td>410.638917</td>\n",
       "    </tr>\n",
       "    <tr>\n",
       "      <th>0</th>\n",
       "      <td>Jose Ferreira VAZ</td>\n",
       "      <td>x6998503631636920967:17</td>\n",
       "      <td>Requerido</td>\n",
       "      <td>Requerido</td>\n",
       "      <td>1000852-05.2021.8.11.0029</td>\n",
       "      <td>TJMT</td>\n",
       "      <td>1623898800000</td>\n",
       "      <td>None</td>\n",
       "      <td>Canarana</td>\n",
       "      <td>None</td>\n",
       "      <td>...</td>\n",
       "      <td>False</td>\n",
       "      <td>False</td>\n",
       "      <td>[Crimes de Trânsito]</td>\n",
       "      <td>[2021-06-19 17:41:03]</td>\n",
       "      <td>MT</td>\n",
       "      <td>2021-06-19T17:40:54</td>\n",
       "      <td>[[666655748, 3936951, A COLETIVIDADE, A COLETI...</td>\n",
       "      <td>2022-10-10 11:11:35.850641</td>\n",
       "      <td>NaN</td>\n",
       "      <td>410.638917</td>\n",
       "    </tr>\n",
       "    <tr>\n",
       "      <th>0</th>\n",
       "      <td>Sabino Xavier dos Santos Junior</td>\n",
       "      <td>1464604427797647554:29</td>\n",
       "      <td>Réu</td>\n",
       "      <td>Polo Passivo</td>\n",
       "      <td>0005656-90.2022.8.16.0083</td>\n",
       "      <td>TJPR</td>\n",
       "      <td>1662692400000</td>\n",
       "      <td>None</td>\n",
       "      <td>Francisco Beltrão</td>\n",
       "      <td>Vara Criminal</td>\n",
       "      <td>...</td>\n",
       "      <td>False</td>\n",
       "      <td>False</td>\n",
       "      <td>[Citação, Apropriação indébita]</td>\n",
       "      <td>[2022-09-09 21:24:28]</td>\n",
       "      <td>PR</td>\n",
       "      <td>2022-09-09T21:24:28</td>\n",
       "      <td>[[888809049, 19094, Ministério Público Estadua...</td>\n",
       "      <td>2022-10-10 11:11:41.122333</td>\n",
       "      <td>NaN</td>\n",
       "      <td>410.638917</td>\n",
       "    </tr>\n",
       "    <tr>\n",
       "      <th>1</th>\n",
       "      <td>Sabino Xavier dos Santos Junior</td>\n",
       "      <td>1464604427797647554:29</td>\n",
       "      <td>Réu</td>\n",
       "      <td>Polo Passivo</td>\n",
       "      <td>0005656-90.2022.8.16.0083</td>\n",
       "      <td>TJPR</td>\n",
       "      <td>1662692400000</td>\n",
       "      <td>None</td>\n",
       "      <td>Francisco Beltrão</td>\n",
       "      <td>Vara Criminal</td>\n",
       "      <td>...</td>\n",
       "      <td>False</td>\n",
       "      <td>False</td>\n",
       "      <td>[Citação, Apropriação indébita]</td>\n",
       "      <td>[2022-09-09 21:24:28]</td>\n",
       "      <td>PR</td>\n",
       "      <td>2022-09-09T21:24:28</td>\n",
       "      <td>[[888809049, 19094, Ministério Público Estadua...</td>\n",
       "      <td>2022-10-10 11:11:48.185278</td>\n",
       "      <td>NaN</td>\n",
       "      <td>410.638917</td>\n",
       "    </tr>\n",
       "    <tr>\n",
       "      <th>2</th>\n",
       "      <td>Sabino Xavier dos Santos Junior</td>\n",
       "      <td>1464604427797647554:29</td>\n",
       "      <td>Réu</td>\n",
       "      <td>Polo Passivo</td>\n",
       "      <td>0005656-90.2022.8.16.0083</td>\n",
       "      <td>TJPR</td>\n",
       "      <td>1662692400000</td>\n",
       "      <td>None</td>\n",
       "      <td>Francisco Beltrão</td>\n",
       "      <td>Vara Criminal</td>\n",
       "      <td>...</td>\n",
       "      <td>False</td>\n",
       "      <td>False</td>\n",
       "      <td>[Citação, Apropriação indébita]</td>\n",
       "      <td>[2022-09-09 21:24:28]</td>\n",
       "      <td>PR</td>\n",
       "      <td>2022-09-09T21:24:28</td>\n",
       "      <td>[[888809049, 19094, Ministério Público Estadua...</td>\n",
       "      <td>2022-10-10 11:11:41.122333</td>\n",
       "      <td>NaN</td>\n",
       "      <td>410.638917</td>\n",
       "    </tr>\n",
       "  </tbody>\n",
       "</table>\n",
       "<p>5 rows × 64 columns</p>\n",
       "</div>"
      ],
      "text/plain": [
       "           matchRelatedPeople_name matchRelatedPeople_personId  \\\n",
       "0        Rubens da Silva Fernandes      x447043544110984535:24   \n",
       "0                Jose Ferreira VAZ     x6998503631636920967:17   \n",
       "0  Sabino Xavier dos Santos Junior      1464604427797647554:29   \n",
       "1  Sabino Xavier dos Santos Junior      1464604427797647554:29   \n",
       "2  Sabino Xavier dos Santos Junior      1464604427797647554:29   \n",
       "\n",
       "  matchRelatedPeople_role_normalized matchRelatedPeople_role_rawValue  \\\n",
       "0                              Autor                 AUTOR(A) DO FATO   \n",
       "0                          Requerido                        Requerido   \n",
       "0                                Réu                     Polo Passivo   \n",
       "1                                Réu                     Polo Passivo   \n",
       "2                                Réu                     Polo Passivo   \n",
       "\n",
       "       node_cnjNumber_number node_court_rawValue  node_distributionDate  \\\n",
       "0  5006597-20.2021.8.13.0035                TJMG          1633316400000   \n",
       "0  1000852-05.2021.8.11.0029                TJMT          1623898800000   \n",
       "0  0005656-90.2022.8.16.0083                TJPR          1662692400000   \n",
       "1  0005656-90.2022.8.16.0083                TJPR          1662692400000   \n",
       "2  0005656-90.2022.8.16.0083                TJPR          1662692400000   \n",
       "\n",
       "  node_distributionType                node_district     node_forum  ...  \\\n",
       "0               Sorteio  Araguari - Juizado Especial           None  ...   \n",
       "0                  None                     Canarana           None  ...   \n",
       "0                  None            Francisco Beltrão  Vara Criminal  ...   \n",
       "1                  None            Francisco Beltrão  Vara Criminal  ...   \n",
       "2                  None            Francisco Beltrão  Vara Criminal  ...   \n",
       "\n",
       "  segredo_justica  arquivado  \\\n",
       "0           False      False   \n",
       "0           False      False   \n",
       "0           False      False   \n",
       "1           False      False   \n",
       "2           False      False   \n",
       "\n",
       "                                             classes                acessos  \\\n",
       "0  [DIREITO PENAL / CRIMES PRATICADOS POR PARTICU...  [2021-10-05 03:59:08]   \n",
       "0                               [Crimes de Trânsito]  [2021-06-19 17:41:03]   \n",
       "0                    [Citação, Apropriação indébita]  [2022-09-09 21:24:28]   \n",
       "1                    [Citação, Apropriação indébita]  [2022-09-09 21:24:28]   \n",
       "2                    [Citação, Apropriação indébita]  [2022-09-09 21:24:28]   \n",
       "\n",
       "   uf             criadoEm                                             partes  \\\n",
       "0  MG  2021-10-05T03:59:08  [[707289463, 8376968, AUTORIDADE POLICIAL, AUT...   \n",
       "0  MT  2021-06-19T17:40:54  [[666655748, 3936951, A COLETIVIDADE, A COLETI...   \n",
       "0  PR  2022-09-09T21:24:28  [[888809049, 19094, Ministério Público Estadua...   \n",
       "1  PR  2022-09-09T21:24:28  [[888809049, 19094, Ministério Público Estadua...   \n",
       "2  PR  2022-09-09T21:24:28  [[888809049, 19094, Ministério Público Estadua...   \n",
       "\n",
       "   dt_search_lawsuit_details  status_op  total_exp_time  \n",
       "0 2022-10-10 11:11:25.948199        NaN      410.638917  \n",
       "0 2022-10-10 11:11:35.850641        NaN      410.638917  \n",
       "0 2022-10-10 11:11:41.122333        NaN      410.638917  \n",
       "1 2022-10-10 11:11:48.185278        NaN      410.638917  \n",
       "2 2022-10-10 11:11:41.122333        NaN      410.638917  \n",
       "\n",
       "[5 rows x 64 columns]"
      ]
     },
     "execution_count": 26,
     "metadata": {},
     "output_type": "execute_result"
    }
   ],
   "source": [
    "df_all_drivers['total_exp_time'] = end_time\n",
    "df_all_drivers.to_excel('drivers_lawsuits_details_300.xlsx', index=False)\n",
    "\n",
    "df_all_drivers.head()"
   ]
  },
  {
   "cell_type": "code",
   "execution_count": null,
   "id": "d975afac",
   "metadata": {},
   "outputs": [],
   "source": [
    "df_escavador = pd.read_csv('data/results_escavador.csv')"
   ]
  },
  {
   "cell_type": "code",
   "execution_count": null,
   "id": "7f032e45",
   "metadata": {
    "scrolled": false
   },
   "outputs": [],
   "source": [
    "df_escavador = df_escavador[['cod_cpf', 'result_escavador_manual']]"
   ]
  },
  {
   "cell_type": "code",
   "execution_count": null,
   "id": "12fe1852",
   "metadata": {},
   "outputs": [],
   "source": [
    "df_escavador['cod_cpf'] = df_escavador['cod_cpf'].astype(str).str.zfill(11)\n",
    "df_escavador['result'] = df_escavador['result_escavador_manual'].apply(lambda x: 1 if x == 'CRIMINAL' else 0)"
   ]
  },
  {
   "cell_type": "code",
   "execution_count": null,
   "id": "3a055648",
   "metadata": {},
   "outputs": [],
   "source": [
    "df_escavador.groupby('result').count()"
   ]
  },
  {
   "cell_type": "code",
   "execution_count": null,
   "id": "f53a16a6",
   "metadata": {},
   "outputs": [],
   "source": [
    "cpfs_encontrados_jusbrasil = set(cpfs) - set(cpfs_not_found + cpfs_not_found_details)"
   ]
  },
  {
   "cell_type": "code",
   "execution_count": null,
   "id": "f90f1c15",
   "metadata": {},
   "outputs": [],
   "source": [
    "## Casos encontrados pelo escavador, mas não encontrados pela Jusbrasil"
   ]
  },
  {
   "cell_type": "code",
   "execution_count": null,
   "id": "5942ef72",
   "metadata": {},
   "outputs": [],
   "source": [
    "df_escavador[(df_escavador['result']==1)].shape[0], len(cpfs_encontrados_jusbrasil)"
   ]
  },
  {
   "cell_type": "code",
   "execution_count": null,
   "id": "5298e6c5",
   "metadata": {},
   "outputs": [],
   "source": [
    "df_escavador[(df_escavador['result']==1) & (df_escavador['cod_cpf'].isin(cpfs_encontrados_jusbrasil))]['cod_cpf']"
   ]
  },
  {
   "cell_type": "code",
   "execution_count": null,
   "id": "8e830f99",
   "metadata": {},
   "outputs": [],
   "source": [
    "df_escavador[(df_escavador['result']==0) & (df_escavador['cod_cpf'].isin(cpfs_encontrados_jusbrasil))]['cod_cpf']"
   ]
  },
  {
   "cell_type": "code",
   "execution_count": null,
   "id": "02bd7503",
   "metadata": {},
   "outputs": [],
   "source": [
    "df_escavador[(df_escavador['result']==1) & (~df_escavador['cod_cpf'].isin(cpfs_encontrados_jusbrasil))]['cod_cpf']"
   ]
  },
  {
   "cell_type": "code",
   "execution_count": null,
   "id": "46ffa661",
   "metadata": {},
   "outputs": [],
   "source": [
    "cpfs_nao_encontrados_jusbrasil = df_escavador[(df_escavador['result']==1) & (~df_escavador['cod_cpf'].isin(cpfs_encontrados_jusbrasil))]['cod_cpf'].tolist()"
   ]
  },
  {
   "cell_type": "code",
   "execution_count": null,
   "id": "d50d1e85",
   "metadata": {},
   "outputs": [],
   "source": [
    "for cpf in cpfs_nao_encontrados_jusbrasil:\n",
    "    parsed = background_check(cpf=cpf)\n",
    "    if not parsed.get('data').get('root').get('crmLawsuitsByPersonId').get('edges'):\n",
    "        print(f'{cpf} - nada encontrado.')"
   ]
  }
 ],
 "metadata": {
  "kernelspec": {
   "display_name": "Python 3 (ipykernel)",
   "language": "python",
   "name": "python3"
  },
  "language_info": {
   "codemirror_mode": {
    "name": "ipython",
    "version": 3
   },
   "file_extension": ".py",
   "mimetype": "text/x-python",
   "name": "python",
   "nbconvert_exporter": "python",
   "pygments_lexer": "ipython3",
   "version": "3.10.7"
  }
 },
 "nbformat": 4,
 "nbformat_minor": 5
}
